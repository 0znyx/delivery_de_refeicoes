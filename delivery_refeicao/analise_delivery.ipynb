{
 "cells": [
  {
   "cell_type": "code",
   "execution_count": null,
   "id": "8d379629",
   "metadata": {},
   "outputs": [],
   "source": [
    "import pandas as pd\n",
    "import numpy as np\n",
    "\n",
    "# Dados de pedidos\n",
    "pedidos = pd.DataFrame({\n",
    "    'pedido_id': [1, 2, 3, 4, 5, 6],\n",
    "    'cliente': ['Ana', 'Bruno', 'Carlos', 'Ana', 'Bruno', 'Daniela'],\n",
    "    'item_id': [101, 102, 103, 101, 104, 102],\n",
    "    'quantidade': [2, 1, 3, 1, 2, 1],\n",
    "    'data': pd.to_datetime(['2025-10-20','2025-10-20','2025-10-21','2025-10-21','2025-10-22','2025-10-22'])\n",
    "})\n",
    "\n",
    "# Dados do cardápio\n",
    "cardapio = pd.DataFrame({\n",
    "    'item_id': [101, 102, 103, 104],\n",
    "    'nome_item': ['Hamburguer', 'Pizza', 'Sushi', 'Salada'],\n",
    "    'preco_unitario': [20.0, 35.0, 50.0, 15.0]\n",
    "})\n",
    "\n",
    "print(\"Pedidos:\\n\", pedidos)\n",
    "print(\"\\nCardápio:\\n\", cardapio)"
   ]
  },
  {
   "cell_type": "code",
   "execution_count": null,
   "id": "60c312cf",
   "metadata": {},
   "outputs": [],
   "source": [
    "# Merge pedidos com cardápio para obter nome do item e preço\n",
    "pedidos_completo = pd.merge(pedidos, cardapio, on='item_id', how='left')\n",
    "\n",
    "# Calculando valor total de cada pedido\n",
    "pedidos_completo['valor_total'] = pedidos_completo['quantidade'] * pedidos_completo['preco_unitario']\n",
    "\n",
    "pedidos_completo"
   ]
  },
  {
   "cell_type": "code",
   "execution_count": null,
   "id": "4bf4c92f",
   "metadata": {},
   "outputs": [],
   "source": [
    "# Total gasto por cliente\n",
    "total_por_cliente = pedidos_completo.groupby('cliente')['valor_total'].sum().reset_index()\n",
    "print(\"Total gasto por cliente:\\n\", total_por_cliente)\n",
    "\n",
    "# Item mais vendido\n",
    "item_mais_vendido = pedidos_completo.groupby('nome_item')['quantidade'].sum().sort_values(ascending=False)\n",
    "print(\"\\nItem mais vendido:\\n\", item_mais_vendido)\n",
    "\n",
    "# Receita diária\n",
    "receita_diaria = pedidos_completo.groupby('data')['valor_total'].sum().reset_index()\n",
    "print(\"\\nReceita diária:\\n\", receita_diaria)\n",
    "\n",
    "# Itens com maior faturamento\n",
    "faturamento_por_item = pedidos_completo.groupby('nome_item')['valor_total'].sum().sort_values(ascending=False)\n",
    "print(\"\\nFaturamento por item:\\n\", faturamento_por_item)"
   ]
  },
  {
   "cell_type": "code",
   "execution_count": null,
   "id": "2f523ed4",
   "metadata": {},
   "outputs": [],
   "source": [
    "# Preço médio dos pedidos\n",
    "preco_medio = np.mean(pedidos_completo['valor_total'])\n",
    "print(f\"Preço médio dos pedidos: R$ {preco_medio:.2f}\")\n",
    "\n",
    "# Maior e menor pedido\n",
    "maior_pedido = np.max(pedidos_completo['valor_total'])\n",
    "menor_pedido = np.min(pedidos_completo['valor_total'])\n",
    "print(f\"Maior pedido: R$ {maior_pedido}, Menor pedido: R$ {menor_pedido}\")"
   ]
  },
  {
   "cell_type": "code",
   "execution_count": null,
   "id": "26da3497",
   "metadata": {},
   "outputs": [],
   "source": [
    "import matplotlib.pyplot as plt\n",
    "import seaborn as sns\n",
    "\n",
    "# Receita diária\n",
    "plt.figure(figsize=(8,5))\n",
    "sns.barplot(data=receita_diaria, x='data', y='valor_total', palette='viridis')\n",
    "plt.title(\"Receita diária\")\n",
    "plt.xlabel(\"Data\")\n",
    "plt.ylabel(\"Valor total (R$)\")\n",
    "plt.show()\n",
    "\n",
    "# Top 5 produtos por quantidade vendida\n",
    "top_produtos = item_mais_vendido.head(5)\n",
    "plt.figure(figsize=(8,5))\n",
    "sns.barplot(x=top_produtos.index, y=top_produtos.values, palette='magma')\n",
    "plt.title(\"Top 5 produtos mais vendidos\")\n",
    "plt.xlabel(\"Produto\")\n",
    "plt.ylabel(\"Quantidade vendida\")\n",
    "plt.show()"
   ]
  }
 ],
 "metadata": {
  "kernelspec": {
   "display_name": "Python 3",
   "language": "python",
   "name": "python3"
  },
  "language_info": {
   "name": "python",
   "version": "3.12.0"
  }
 },
 "nbformat": 4,
 "nbformat_minor": 5
}
